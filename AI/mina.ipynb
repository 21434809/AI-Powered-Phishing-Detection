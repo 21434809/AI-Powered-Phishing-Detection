{
 "cells": [
  {
   "cell_type": "markdown",
   "metadata": {},
   "source": [
    "# Import\n"
   ]
  },
  {
   "cell_type": "code",
   "execution_count": 6,
   "metadata": {},
   "outputs": [],
   "source": [
    "import pickle"
   ]
  },
  {
   "cell_type": "markdown",
   "metadata": {},
   "source": [
    "# Load model "
   ]
  },
  {
   "cell_type": "code",
   "execution_count": 8,
   "metadata": {},
   "outputs": [],
   "source": [
    "model_path = '../AI_Model/model.pkl'\n",
    "vectorizer_path = '../AI_Model/vectorizer.pkl'\n",
    "# Load the model from disk\n",
    "with open(model_path, 'rb') as file:\n",
    "    model = pickle.load(file)\n",
    "# Load the vectorizer from disk\n",
    "with open(vectorizer_path, 'rb') as file:\n",
    "    vectorizer = pickle.load(file)"
   ]
  },
  {
   "cell_type": "markdown",
   "metadata": {},
   "source": [
    "# Use"
   ]
  },
  {
   "cell_type": "code",
   "execution_count": 9,
   "metadata": {},
   "outputs": [
    {
     "ename": "NameError",
     "evalue": "name 'predict_text' is not defined",
     "output_type": "error",
     "traceback": [
      "\u001b[31m---------------------------------------------------------------------------\u001b[39m",
      "\u001b[31mNameError\u001b[39m                                 Traceback (most recent call last)",
      "\u001b[36mCell\u001b[39m\u001b[36m \u001b[39m\u001b[32mIn[9]\u001b[39m\u001b[32m, line 2\u001b[39m\n\u001b[32m      1\u001b[39m test_body = \u001b[33m\"\u001b[39m\u001b[33mWe detected that your password has been exposed in a data breach on another platform while doing a routine check for your security. You should reset your Duolingo password immediately, using a unique password not used elsewhere.\u001b[39m\u001b[33m\"\u001b[39m\n\u001b[32m----> \u001b[39m\u001b[32m2\u001b[39m is_spam,percentages = \u001b[43mpredict_text\u001b[49m(test_body, model, vectorizer)\n\u001b[32m      3\u001b[39m suspect_words = get_suspect_words(test_body, model, vectorizer)\n\u001b[32m      5\u001b[39m \u001b[38;5;28;01mif\u001b[39;00m is_spam:\n",
      "\u001b[31mNameError\u001b[39m: name 'predict_text' is not defined"
     ]
    }
   ],
   "source": [
    "test_body = \"We detected that your password has been exposed in a data breach on another platform while doing a routine check for your security. You should reset your Duolingo password immediately, using a unique password not used elsewhere.\"\n",
    "is_spam,percentages = predict_text(test_body, model, vectorizer)\n",
    "suspect_words = get_suspect_words(test_body, model, vectorizer)\n",
    "\n",
    "if is_spam:\n",
    "    print(\"The body is a phishing email.With a probability of \",percentage[0][1].round(2)*100,\"%\")\n",
    "else:\n",
    "    print(\"The body is not a phishing email.With a probability of \",percentage[0][0].round(2)*100,\"%\")\n",
    "\n",
    "print(\"Top 5 suspect words:\", suspect_words)  "
   ]
  }
 ],
 "metadata": {
  "kernelspec": {
   "display_name": "Python 3",
   "language": "python",
   "name": "python3"
  },
  "language_info": {
   "codemirror_mode": {
    "name": "ipython",
    "version": 3
   },
   "file_extension": ".py",
   "mimetype": "text/x-python",
   "name": "python",
   "nbconvert_exporter": "python",
   "pygments_lexer": "ipython3",
   "version": "3.13.2"
  }
 },
 "nbformat": 4,
 "nbformat_minor": 2
}
