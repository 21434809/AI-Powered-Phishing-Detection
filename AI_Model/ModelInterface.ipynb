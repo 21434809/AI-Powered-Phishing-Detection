{
 "cells": [
  {
   "cell_type": "code",
   "execution_count": null,
   "id": "457f6804",
   "metadata": {},
   "outputs": [],
   "source": [
    "# Fucntions "
   ]
  },
  {
   "cell_type": "code",
   "execution_count": 3,
   "id": "9533e838",
   "metadata": {},
   "outputs": [],
   "source": [
    "# prompt: create fucntion to fecth the mdel test a body and return true or false\n",
    "def predict_text(text, model, vectorizer):\n",
    "    # Transform the input text using the fitted vectorizer\n",
    "    text_vec = vectorizer.transform([text])\n",
    "    # Predict the label\n",
    "    prediction = model.predict(text_vec)\n",
    "    # Calculate the probability of each class \n",
    "    probabilities = model.predict_proba(text_vec)\n",
    "    # Return True if predicted label is spam (assuming spam is labeled as 1), otherwise False\n",
    "    is_spam = prediction[0] == 1\n",
    "    return is_spam, probabilities\n",
    "\n",
    "def get_suspect_words(text, model, vectorizer, top_n=5):\n",
    "    # Transform the input text using the fitted vectorizer\n",
    "    text_vec = vectorizer.transform([text])\n",
    "\n",
    "    # Get feature names (words) from the vectorizer\n",
    "    feature_names = np.array(vectorizer.get_feature_names_out())\n",
    "\n",
    "    # Get feature importances from the RandomForestClassifier\n",
    "    feature_importances = model.feature_importances_\n",
    "\n",
    "    # Get the nonzero feature indices in the transformed input\n",
    "    word_indices = text_vec.nonzero()[1]\n",
    "\n",
    "    # Get word importance scores\n",
    "    word_importance = feature_importances[word_indices]\n",
    "\n",
    "    # Pair words with their importance scores and sort them\n",
    "    word_contributions = sorted(zip(feature_names[word_indices], word_importance), key=lambda x: abs(x[1]), reverse=True)\n",
    "\n",
    "    # Return the top N suspect words\n",
    "    return word_contributions[:top_n]\n",
    "\n",
    "#load the model and vectorizer\n",
    "import pickle\n",
    "import numpy as np\n",
    "# Load the trained model and vectorizer\n",
    "model_path = '../app/model/model.pkl'\n",
    "vectorizer_path = '../app/model/vectorizer.pkl'\n",
    "with open(model_path, 'rb') as model_file:\n",
    "    model = pickle.load(model_file)\n",
    "with open(vectorizer_path, 'rb') as vectorizer_file:\n",
    "    vectorizer = pickle.load(vectorizer_file)"
   ]
  },
  {
   "cell_type": "code",
   "execution_count": 4,
   "id": "bf73484c",
   "metadata": {},
   "outputs": [
    {
     "name": "stdout",
     "output_type": "stream",
     "text": [
      "Is Spam: True\n",
      "Probabilities: [[0.15 0.85]]\n",
      "Top Suspect Words: [('body', np.float64(0.021079458556763922)), ('email', np.float64(0.0021618695937983433)), ('title', np.float64(0.00015757168823768073)), ('goes', np.float64(0.00012441256006306655)), ('content', np.float64(0.00010267879681582953))]\n",
      "Is Spam: True\n",
      "Probabilities: [[0.3 0.7]]\n",
      "Top Suspect Words: [('email', np.float64(0.0021618695937983433)), ('send', np.float64(0.000886050400295083)), ('forward', np.float64(0.00026109593494647905)), ('it', np.float64(6.931419949036034e-06)), ('can', np.float64(6.500332705713231e-06))]\n"
     ]
    }
   ],
   "source": [
    "# Example usage: Predict using title and body in the format: {subject}. Body: {body}\n",
    "subject = \"Your Email Title\"\n",
    "body_text = \"Your email content goes here\"\n",
    "sample_text = f\"{subject}. Body: {body_text}\"\n",
    "is_spam, probabilities = predict_text(sample_text, model, vectorizer)\n",
    "print(\"Is Spam:\", is_spam)\n",
    "print(\"Probabilities:\", probabilities)\n",
    "top_words = get_suspect_words(sample_text, model, vectorizer, top_n=5)\n",
    "print(\"Top Suspect Words:\", top_words)\n",
    "# Example usage Subject: {subject}. Body: {body}” so that the model sees the full context. \n",
    "sample_text = \"Hay send me your other email so I can forward it to you\" \n",
    "is_spam, probabilities = predict_text(sample_text, model, vectorizer)\n",
    "print(\"Is Spam:\", is_spam)\n",
    "print(\"Probabilities:\", probabilities)\n",
    "top_words = get_suspect_words(sample_text, model, vectorizer, top_n=5)\n",
    "print(\"Top Suspect Words:\", top_words)"
   ]
  },
  {
   "cell_type": "markdown",
   "id": "a9190168",
   "metadata": {},
   "source": [
    "# Using Fucntion"
   ]
  },
  {
   "cell_type": "code",
   "execution_count": 5,
   "id": "49cd6854",
   "metadata": {},
   "outputs": [
    {
     "name": "stdout",
     "output_type": "stream",
     "text": [
      "The email is not a phishing email. With a probability of 68.0 %\n",
      "Top 5 suspect words: [('body', np.float64(0.021079458556763922)), ('using', np.float64(0.0036109840322067505)), ('email', np.float64(0.0021618695937983433)), ('used', np.float64(0.0016061349324382973)), ('data', np.float64(0.001571869949512627))]\n"
     ]
    }
   ],
   "source": [
    "subject = \"Your Email Title\"\n",
    "test_body = \"We detected that your password has been exposed in a data breach on another platform while doing a routine check for your security. You should reset your Duolingo password immediately, using a unique password not used elsewhere.\"\n",
    "test_text = f\"{subject}. Body: {test_body}\"\n",
    "is_spam, percentages = predict_text(test_text, model, vectorizer)\n",
    "suspect_words = get_suspect_words(test_text, model, vectorizer)\n",
    "\n",
    "if is_spam:\n",
    "    print(\"The email is a phishing email. With a probability of\", percentages[0][1].round(2)*100, \"%\")\n",
    "else:\n",
    "    print(\"The email is not a phishing email. With a probability of\", percentages[0][0].round(2)*100, \"%\")\n",
    "\n",
    "print(\"Top 5 suspect words:\", suspect_words)"
   ]
  }
 ],
 "metadata": {
  "kernelspec": {
   "display_name": "Python 3",
   "language": "python",
   "name": "python3"
  },
  "language_info": {
   "codemirror_mode": {
    "name": "ipython",
    "version": 3
   },
   "file_extension": ".py",
   "mimetype": "text/x-python",
   "name": "python",
   "nbconvert_exporter": "python",
   "pygments_lexer": "ipython3",
   "version": "3.13.2"
  }
 },
 "nbformat": 4,
 "nbformat_minor": 5
}
