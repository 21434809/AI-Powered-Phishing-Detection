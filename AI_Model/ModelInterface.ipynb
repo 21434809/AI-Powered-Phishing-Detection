{
 "cells": [
  {
   "cell_type": "code",
   "execution_count": 5,
   "id": "457f6804",
   "metadata": {},
   "outputs": [],
   "source": [
    "# Fucntions "
   ]
  },
  {
   "cell_type": "code",
   "execution_count": 6,
   "id": "9533e838",
   "metadata": {},
   "outputs": [],
   "source": [
    "# prompt: create fucntion to fecth the mdel test a body and return true or false\n",
    "def predict_text(text, model, vectorizer):\n",
    "    # Transform the input text using the fitted vectorizer\n",
    "    text_vec = vectorizer.transform([text])\n",
    "    # Predict the label\n",
    "    prediction = model.predict(text_vec)\n",
    "    # Calculate the probability of each class \n",
    "    probabilities = model.predict_proba(text_vec)\n",
    "    # Return True if predicted label is spam (assuming spam is labeled as 1), otherwise False\n",
    "    is_spam = prediction[0] == 1\n",
    "    return is_spam, probabilities\n",
    "\n",
    "def get_suspect_words(text, model, vectorizer, top_n=5):\n",
    "    # Transform the input text using the fitted vectorizer\n",
    "    text_vec = vectorizer.transform([text])\n",
    "\n",
    "    # Get feature names (words) from the vectorizer\n",
    "    feature_names = np.array(vectorizer.get_feature_names_out())\n",
    "\n",
    "    # Get feature importances from the RandomForestClassifier\n",
    "    feature_importances = model.feature_importances_\n",
    "\n",
    "    # Get the nonzero feature indices in the transformed input\n",
    "    word_indices = text_vec.nonzero()[1]\n",
    "\n",
    "    # Get word importance scores\n",
    "    word_importance = feature_importances[word_indices]\n",
    "\n",
    "    # Pair words with their importance scores and sort them\n",
    "    word_contributions = sorted(zip(feature_names[word_indices], word_importance), key=lambda x: abs(x[1]), reverse=True)\n",
    "\n",
    "    # Return the top N suspect words\n",
    "    return word_contributions[:top_n]\n",
    "\n",
    "#load the model and vectorizer\n",
    "import pickle\n",
    "import numpy as np\n",
    "# Load the trained model and vectorizer\n",
    "model_path = '../app/model/model.pkl'\n",
    "vectorizer_path = '../app/model/vectorizer.pkl'\n",
    "with open(model_path, 'rb') as model_file:\n",
    "    model = pickle.load(model_file)\n",
    "with open(vectorizer_path, 'rb') as vectorizer_file:\n",
    "    vectorizer = pickle.load(vectorizer_file)"
   ]
  },
  {
   "cell_type": "code",
   "execution_count": 7,
   "id": "bf73484c",
   "metadata": {},
   "outputs": [
    {
     "name": "stdout",
     "output_type": "stream",
     "text": [
      "Is Spam: True\n",
      "Probabilities: [[0.22 0.78]]\n",
      "Top Suspect Words: [('body', np.float64(0.025705340059782873)), ('your', np.float64(0.005374586856843774)), ('here', np.float64(0.0024704972781055)), ('email', np.float64(0.0012545246879213418)), ('goes', np.float64(0.00010771780246092959))]\n",
      "Is Spam: True\n",
      "Probabilities: [[0.44 0.56]]\n",
      "Top Suspect Words: [('your', np.float64(0.005374586856843774)), ('you', np.float64(0.004793338120540907)), ('to', np.float64(0.0034933589215651916)), ('it', np.float64(0.00339516750731521)), ('so', np.float64(0.0025861037610440496))]\n"
     ]
    }
   ],
   "source": [
    "# Example usage: Predict using title and body in the format: {subject}. Body: {body}\n",
    "subject = \"Your Email Title\"\n",
    "body_text = \"Your email content goes here\"\n",
    "sample_text = f\"{subject}. Body: {body_text}\"\n",
    "is_spam, probabilities = predict_text(sample_text, model, vectorizer)\n",
    "print(\"Is Spam:\", is_spam)\n",
    "print(\"Probabilities:\", probabilities)\n",
    "top_words = get_suspect_words(sample_text, model, vectorizer, top_n=5)\n",
    "print(\"Top Suspect Words:\", top_words)\n",
    "# Example usage Subject: {subject}. Body: {body}” so that the model sees the full context. \n",
    "sample_text = \"Hay send me your other email so I can forward it to you\" \n",
    "is_spam, probabilities = predict_text(sample_text, model, vectorizer)\n",
    "print(\"Is Spam:\", is_spam)\n",
    "print(\"Probabilities:\", probabilities)\n",
    "top_words = get_suspect_words(sample_text, model, vectorizer, top_n=5)\n",
    "print(\"Top Suspect Words:\", top_words)"
   ]
  },
  {
   "cell_type": "markdown",
   "id": "a9190168",
   "metadata": {},
   "source": [
    "# Using Fucntion"
   ]
  },
  {
   "cell_type": "code",
   "execution_count": 8,
   "id": "49cd6854",
   "metadata": {},
   "outputs": [
    {
     "name": "stdout",
     "output_type": "stream",
     "text": [
      "The email is a phishing email. With a probability of 51.0 %\n",
      "Top 5 suspect words: [('body', np.float64(0.025705340059782873)), ('not', np.float64(0.006446988484846362)), ('that', np.float64(0.006394237694236446)), ('on', np.float64(0.005749832373025211)), ('your', np.float64(0.005374586856843774))]\n"
     ]
    }
   ],
   "source": [
    "subject = \"Your Email Title\"\n",
    "test_body = \"We detected that your password has been exposed in a data breach on another platform while doing a routine check for your security. You should reset your Duolingo password immediately, using a unique password not used elsewhere.\"\n",
    "test_text = f\"{subject}. Body: {test_body}\"\n",
    "is_spam, percentages = predict_text(test_text, model, vectorizer)\n",
    "suspect_words = get_suspect_words(test_text, model, vectorizer)\n",
    "\n",
    "if is_spam:\n",
    "    confidence = max(percentages[0])\n",
    "    print(\"The email is a phishing email. With a probability of\", round(confidence *100, 2), \"%\")\n",
    "else:\n",
    "    confidence = max(percentages[0])\n",
    "    print(\"The email is not a phishing email. With a probability of\",  round(confidence *100, 2), \"%\")\n",
    "\n",
    "print(\"Top 5 suspect words:\", suspect_words)"
   ]
  }
 ],
 "metadata": {
  "kernelspec": {
   "display_name": "Python 3",
   "language": "python",
   "name": "python3"
  },
  "language_info": {
   "codemirror_mode": {
    "name": "ipython",
    "version": 3
   },
   "file_extension": ".py",
   "mimetype": "text/x-python",
   "name": "python",
   "nbconvert_exporter": "python",
   "pygments_lexer": "ipython3",
   "version": "3.13.2"
  }
 },
 "nbformat": 4,
 "nbformat_minor": 5
}
