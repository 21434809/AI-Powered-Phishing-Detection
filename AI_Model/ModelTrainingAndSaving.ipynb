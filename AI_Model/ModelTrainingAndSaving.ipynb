{
 "cells": [
  {
   "cell_type": "markdown",
   "id": "1768c18f",
   "metadata": {},
   "source": [
    "# Model Training and Saving\n",
    "This notebook demonstrates how to train a Random Forest classifier on the preprocessed phishing dataset and save the trained model and vectorizer for later use."
   ]
  },
  {
   "cell_type": "code",
   "execution_count": 34,
   "id": "9e98577a",
   "metadata": {},
   "outputs": [
    {
     "name": "stdout",
     "output_type": "stream",
     "text": [
      "Requirement already satisfied: numpy in c:\\users\\ruebe\\appdata\\local\\programs\\python\\python313\\lib\\site-packages (2.2.4)\n",
      "Requirement already satisfied: pandas in c:\\users\\ruebe\\appdata\\local\\programs\\python\\python313\\lib\\site-packages (2.2.3)\n",
      "Requirement already satisfied: matplotlib in c:\\users\\ruebe\\appdata\\local\\programs\\python\\python313\\lib\\site-packages (3.10.1)\n",
      "Requirement already satisfied: seaborn in c:\\users\\ruebe\\appdata\\local\\programs\\python\\python313\\lib\\site-packages (0.13.2)\n",
      "Requirement already satisfied: scikit-learn in c:\\users\\ruebe\\appdata\\local\\programs\\python\\python313\\lib\\site-packages (1.6.1)\n",
      "Requirement already satisfied: python-dateutil>=2.8.2 in c:\\users\\ruebe\\appdata\\local\\programs\\python\\python313\\lib\\site-packages (from pandas) (2.9.0.post0)\n",
      "Requirement already satisfied: pytz>=2020.1 in c:\\users\\ruebe\\appdata\\local\\programs\\python\\python313\\lib\\site-packages (from pandas) (2025.1)\n",
      "Requirement already satisfied: tzdata>=2022.7 in c:\\users\\ruebe\\appdata\\local\\programs\\python\\python313\\lib\\site-packages (from pandas) (2025.1)\n",
      "Requirement already satisfied: contourpy>=1.0.1 in c:\\users\\ruebe\\appdata\\local\\programs\\python\\python313\\lib\\site-packages (from matplotlib) (1.3.1)\n",
      "Requirement already satisfied: cycler>=0.10 in c:\\users\\ruebe\\appdata\\local\\programs\\python\\python313\\lib\\site-packages (from matplotlib) (0.12.1)\n",
      "Requirement already satisfied: fonttools>=4.22.0 in c:\\users\\ruebe\\appdata\\local\\programs\\python\\python313\\lib\\site-packages (from matplotlib) (4.56.0)\n",
      "Requirement already satisfied: kiwisolver>=1.3.1 in c:\\users\\ruebe\\appdata\\local\\programs\\python\\python313\\lib\\site-packages (from matplotlib) (1.4.8)\n",
      "Requirement already satisfied: packaging>=20.0 in c:\\users\\ruebe\\appdata\\local\\programs\\python\\python313\\lib\\site-packages (from matplotlib) (24.2)\n",
      "Requirement already satisfied: pillow>=8 in c:\\users\\ruebe\\appdata\\local\\programs\\python\\python313\\lib\\site-packages (from matplotlib) (11.1.0)\n",
      "Requirement already satisfied: pyparsing>=2.3.1 in c:\\users\\ruebe\\appdata\\local\\programs\\python\\python313\\lib\\site-packages (from matplotlib) (3.2.1)\n",
      "Requirement already satisfied: scipy>=1.6.0 in c:\\users\\ruebe\\appdata\\local\\programs\\python\\python313\\lib\\site-packages (from scikit-learn) (1.15.2)\n",
      "Requirement already satisfied: joblib>=1.2.0 in c:\\users\\ruebe\\appdata\\local\\programs\\python\\python313\\lib\\site-packages (from scikit-learn) (1.4.2)\n",
      "Requirement already satisfied: threadpoolctl>=3.1.0 in c:\\users\\ruebe\\appdata\\local\\programs\\python\\python313\\lib\\site-packages (from scikit-learn) (3.6.0)\n",
      "Requirement already satisfied: six>=1.5 in c:\\users\\ruebe\\appdata\\local\\programs\\python\\python313\\lib\\site-packages (from python-dateutil>=2.8.2->pandas) (1.17.0)\n",
      "Note: you may need to restart the kernel to use updated packages.\n"
     ]
    },
    {
     "name": "stderr",
     "output_type": "stream",
     "text": [
      "\n",
      "[notice] A new release of pip is available: 24.3.1 -> 25.1.1\n",
      "[notice] To update, run: python.exe -m pip install --upgrade pip\n"
     ]
    }
   ],
   "source": [
    "# Install required packages\n",
    "%pip install numpy pandas matplotlib seaborn scikit-learn"
   ]
  },
  {
   "cell_type": "code",
   "execution_count": 35,
   "id": "7825ae3a",
   "metadata": {},
   "outputs": [],
   "source": [
    "# Import necessary libraries\n",
    "import numpy as np\n",
    "import pandas as pd\n",
    "import matplotlib.pyplot as plt\n",
    "import seaborn as sns\n",
    "import pickle\n",
    "from sklearn.model_selection import train_test_split\n",
    "from sklearn.metrics import classification_report, confusion_matrix, accuracy_score\n",
    "from sklearn.feature_extraction.text import TfidfVectorizer\n",
    "from sklearn.ensemble import RandomForestClassifier"
   ]
  },
  {
   "cell_type": "code",
   "execution_count": 36,
   "id": "d6652c58",
   "metadata": {},
   "outputs": [],
   "source": [
    "# Load the preprocessed dataset\n",
    "df = pd.read_csv('../sample_data/cleaned_dataset.csv')"
   ]
  },
  {
   "cell_type": "code",
   "execution_count": 43,
   "id": "be500049",
   "metadata": {},
   "outputs": [],
   "source": [
    "# Prepare features and labels\n",
    "X = \"Subject: \" + df[\"subject\"] + \". Body: \" + df[\"body\"]\n",
    "y = df['label']\n",
    "\n",
    "# Train-test split\n",
    "X_train, X_test, y_train, y_test = train_test_split(X, y, test_size=0.2, random_state=1)\n",
    "\n",
    "# Vectorize text\n",
    "vectorizer = TfidfVectorizer()\n",
    "X_train_vec = vectorizer.fit_transform(X_train)\n",
    "X_test_vec = vectorizer.transform(X_test)"
   ]
  },
  {
   "cell_type": "code",
   "execution_count": 44,
   "id": "aec0786e",
   "metadata": {},
   "outputs": [
    {
     "name": "stdout",
     "output_type": "stream",
     "text": [
      "Accuracy: 0.9873872026251025\n",
      "              precision    recall  f1-score   support\n",
      "\n",
      "           0       0.98      0.99      0.99      4285\n",
      "           1       0.99      0.99      0.99      5467\n",
      "\n",
      "    accuracy                           0.99      9752\n",
      "   macro avg       0.99      0.99      0.99      9752\n",
      "weighted avg       0.99      0.99      0.99      9752\n",
      "\n"
     ]
    }
   ],
   "source": [
    "# Train Random Forest model\n",
    "model = RandomForestClassifier(random_state=1)\n",
    "model.fit(X_train_vec, y_train)\n",
    "y_pred = model.predict(X_test_vec)\n",
    "accuracy = accuracy_score(y_test, y_pred)\n",
    "print(f'Accuracy: {accuracy}')\n",
    "print(classification_report(y_test, y_pred))"
   ]
  },
  {
   "cell_type": "code",
   "execution_count": 45,
   "id": "3bf5c0d9",
   "metadata": {},
   "outputs": [
    {
     "data": {
      "image/png": "[encoded data removed]",
      "text/plain": [
       "<Figure size 1000x700 with 2 Axes>"
      ]
     },
     "metadata": {},
     "output_type": "display_data"
    }
   ],
   "source": [
    "# Plot confusion matrix\n",
    "cm = confusion_matrix(y_test, y_pred)\n",
    "plt.figure(figsize=(10, 7))\n",
    "sns.heatmap(cm, annot=True)\n",
    "plt.title('Confusion Matrix')\n",
    "plt.show()"
   ]
  },
  {
   "cell_type": "code",
   "execution_count": 46,
   "id": "e391d459",
   "metadata": {},
   "outputs": [
    {
     "name": "stdout",
     "output_type": "stream",
     "text": [
      "False Positives:\n",
      "11581    Subject: cellphone charger. Body: message forw...\n",
      "9409     Subject: reminder seminar today. Body: reminde...\n",
      "41780    Subject: riaa site hacked overnight. Body: see...\n",
      "2814     Subject: save second order marthastewartflower...\n",
      "20987    Subject: fork interesting video hillary. Body:...\n",
      "29417    Subject: end summer specials days. Body: havin...\n",
      "44638    Subject: cancelling earthlink. Body: im sure c...\n",
      "21513    Subject: builddns. Body: c anakin anakinuwater...\n",
      "42111    Subject: sed sunited statesroman empireg. Body...\n",
      "31608    Subject: change button action triptracker. Bod...\n",
      "44547    Subject: jpegs patented. Body: pngs kosh httpx...\n",
      "32656    Subject: office globe triptrackernet finally b...\n",
      "29881    Subject: builddns. Body: c sciborg sciborguwat...\n",
      "25196    Subject: samuel. Body: say teeth told having b...\n",
      "35940    Subject: confirmation. Body: settings computer...\n",
      "2206     Subject: spambayesdev help. Body: dear friends...\n",
      "41846    Subject: whoa. Body: just blew mind httpwwwear...\n",
      "12505    Subject: message staff. Body: vice chancellor ...\n",
      "41986    Subject: bush blew. Body: httpwwwwashingtonpos...\n",
      "37349    Subject: dont chicken try office live small bu...\n",
      "44082    Subject: ilug openssh fyi. Body: httpdocsfreeb...\n",
      "36327    Subject: quadruple fly buys days. Body: email ...\n",
      "29675    Subject: pizzahut order confirmation. Body: fo...\n",
      "7101     Subject: proflowers order delivered. Body: dea...\n",
      "4248     Subject: resnet address alert. Body: expecting...\n",
      "1934     Subject: upcoming scheduled payment alert chas...\n",
      "15767    Subject: kurs engleskog funny. Body: engeski z...\n",
      "35715    Subject: robyn borne. Body: thank messages kin...\n",
      "32655    Subject: increase telnet secession count. Body...\n",
      "19160    Subject: quarantine summary. Body: messages qu...\n",
      "44365    Subject: iiu post emailharvestemailcom require...\n",
      "24749    Subject: spsscom verification. Body: thank reg...\n",
      "2706     Subject: birthday shout. Body: card tony surpr...\n",
      "24250    Subject: features. Body: hii really liked siml...\n",
      "34366    Subject: viewer help. Body: thank help great v...\n",
      "15460     Subject: fw personality test. Body: bad actually\n",
      "42913    Subject: returned mail sacvs cvs spamassassinm...\n",
      "41616    Subject: canadians. Body: local paper morning ...\n",
      "35119    Subject: builddns. Body: c sciborg sciborguwat...\n",
      "5251     Subject: proflowers order picked shipping trac...\n",
      "17964    Subject: bookscanada query credit card process...\n",
      "5863     Subject: fork evolutionary psychology fun time...\n",
      "19621    Subject: trade buy bid successful auction huma...\n",
      "41989    Subject: person. Body: interesting ebay iteman...\n",
      "30693    Subject: confirmation code. Body: confirmation...\n",
      "36866    Subject: hours. Body: wednesday th april pm fr...\n",
      "99       Subject: acnielsen voice epoints survey comple...\n",
      "dtype: object\n",
      "False Negatives:\n",
      "47168    Subject: selling travel todays economy. Body: ...\n",
      "46903    Subject: look desparately seeking lazy peoplew...\n",
      "45974    Subject: weight loss secrets doctors famous st...\n",
      "46101    Subject: join focus groups earn money. Body: h...\n",
      "204      Subject: works product website affiliate websi...\n",
      "                               ...                        \n",
      "46419    Subject: irelands great world cup result. Body...\n",
      "456      Subject: thanks reading information. Body: dif...\n",
      "45763    Subject: powerball results saturday september ...\n",
      "39026    Subject: terrorist. Body: welcome web site www...\n",
      "27689    Subject: productlistforourcustomerscialis. Bod...\n",
      "Length: 76, dtype: object\n"
     ]
    }
   ],
   "source": [
    "# View false positives and false negatives\n",
    "false_positives = X_test[(y_pred == 1) & (y_test == 0)]\n",
    "false_negatives = X_test[(y_pred == 0) & (y_test == 1)]\n",
    "print(\"False Positives:\")\n",
    "print(false_positives)\n",
    "print(\"False Negatives:\")\n",
    "print(false_negatives)"
   ]
  },
  {
   "cell_type": "code",
   "execution_count": 47,
   "id": "c7fc3807",
   "metadata": {},
   "outputs": [
    {
     "name": "stdout",
     "output_type": "stream",
     "text": [
      "Model and vectorizer saved.\n"
     ]
    }
   ],
   "source": [
    "# Save the model and vectorizer\n",
    "model_path = '../app/model/model.pkl'\n",
    "with open(model_path, 'wb') as file:\n",
    "    pickle.dump(model, file)\n",
    "vectorizer_path = '../app/model/vectorizer.pkl'\n",
    "with open(vectorizer_path, 'wb') as file:\n",
    "    pickle.dump(vectorizer, file)\n",
    "print(\"Model and vectorizer saved.\")"
   ]
  }
 ],
 "metadata": {
  "kernelspec": {
   "display_name": "Python 3",
   "language": "python",
   "name": "python3"
  },
  "language_info": {
   "codemirror_mode": {
    "name": "ipython",
    "version": 3
   },
   "file_extension": ".py",
   "mimetype": "text/x-python",
   "name": "python",
   "nbconvert_exporter": "python",
   "pygments_lexer": "ipython3",
   "version": "3.13.2"
  }
 },
 "nbformat": 4,
 "nbformat_minor": 5
}
