{
 "cells": [
  {
   "cell_type": "markdown",
   "metadata": {
    "id": "fJcjDKldSvy3"
   },
   "source": [
    "# Imports\n",
    "Import all the necessary libraries required for the project."
   ]
  },
  {
   "cell_type": "code",
   "execution_count": 33,
   "metadata": {
    "id": "DiQUZq42Svy4"
   },
   "outputs": [
    {
     "name": "stdout",
     "output_type": "stream",
     "text": [
      "Requirement already satisfied: numpy in c:\\users\\ruebe\\appdata\\local\\programs\\python\\python313\\lib\\site-packages (2.2.4)\n",
      "Requirement already satisfied: pandas in c:\\users\\ruebe\\appdata\\local\\programs\\python\\python313\\lib\\site-packages (2.2.3)\n",
      "Requirement already satisfied: matplotlib in c:\\users\\ruebe\\appdata\\local\\programs\\python\\python313\\lib\\site-packages (3.10.1)\n",
      "Requirement already satisfied: seaborn in c:\\users\\ruebe\\appdata\\local\\programs\\python\\python313\\lib\\site-packages (0.13.2)\n",
      "Requirement already satisfied: scikit-learn in c:\\users\\ruebe\\appdata\\local\\programs\\python\\python313\\lib\\site-packages (1.6.1)\n",
      "Requirement already satisfied: nltk in c:\\users\\ruebe\\appdata\\local\\programs\\python\\python313\\lib\\site-packages (3.9.1)\n",
      "Requirement already satisfied: python-dateutil>=2.8.2 in c:\\users\\ruebe\\appdata\\local\\programs\\python\\python313\\lib\\site-packages (from pandas) (2.9.0.post0)\n",
      "Requirement already satisfied: pytz>=2020.1 in c:\\users\\ruebe\\appdata\\local\\programs\\python\\python313\\lib\\site-packages (from pandas) (2025.1)\n",
      "Requirement already satisfied: tzdata>=2022.7 in c:\\users\\ruebe\\appdata\\local\\programs\\python\\python313\\lib\\site-packages (from pandas) (2025.1)\n",
      "Requirement already satisfied: contourpy>=1.0.1 in c:\\users\\ruebe\\appdata\\local\\programs\\python\\python313\\lib\\site-packages (from matplotlib) (1.3.1)\n",
      "Requirement already satisfied: cycler>=0.10 in c:\\users\\ruebe\\appdata\\local\\programs\\python\\python313\\lib\\site-packages (from matplotlib) (0.12.1)\n",
      "Requirement already satisfied: fonttools>=4.22.0 in c:\\users\\ruebe\\appdata\\local\\programs\\python\\python313\\lib\\site-packages (from matplotlib) (4.56.0)\n",
      "Requirement already satisfied: kiwisolver>=1.3.1 in c:\\users\\ruebe\\appdata\\local\\programs\\python\\python313\\lib\\site-packages (from matplotlib) (1.4.8)\n",
      "Requirement already satisfied: packaging>=20.0 in c:\\users\\ruebe\\appdata\\local\\programs\\python\\python313\\lib\\site-packages (from matplotlib) (24.2)\n",
      "Requirement already satisfied: pillow>=8 in c:\\users\\ruebe\\appdata\\local\\programs\\python\\python313\\lib\\site-packages (from matplotlib) (11.1.0)\n",
      "Requirement already satisfied: pyparsing>=2.3.1 in c:\\users\\ruebe\\appdata\\local\\programs\\python\\python313\\lib\\site-packages (from matplotlib) (3.2.1)\n",
      "Requirement already satisfied: scipy>=1.6.0 in c:\\users\\ruebe\\appdata\\local\\programs\\python\\python313\\lib\\site-packages (from scikit-learn) (1.15.2)\n",
      "Requirement already satisfied: joblib>=1.2.0 in c:\\users\\ruebe\\appdata\\local\\programs\\python\\python313\\lib\\site-packages (from scikit-learn) (1.4.2)\n",
      "Requirement already satisfied: threadpoolctl>=3.1.0 in c:\\users\\ruebe\\appdata\\local\\programs\\python\\python313\\lib\\site-packages (from scikit-learn) (3.6.0)\n",
      "Requirement already satisfied: click in c:\\users\\ruebe\\appdata\\local\\programs\\python\\python313\\lib\\site-packages (from nltk) (8.1.8)\n",
      "Requirement already satisfied: regex>=2021.8.3 in c:\\users\\ruebe\\appdata\\local\\programs\\python\\python313\\lib\\site-packages (from nltk) (2024.11.6)\n",
      "Requirement already satisfied: tqdm in c:\\users\\ruebe\\appdata\\local\\programs\\python\\python313\\lib\\site-packages (from nltk) (4.67.1)\n",
      "Requirement already satisfied: six>=1.5 in c:\\users\\ruebe\\appdata\\local\\programs\\python\\python313\\lib\\site-packages (from python-dateutil>=2.8.2->pandas) (1.17.0)\n",
      "Requirement already satisfied: colorama in c:\\users\\ruebe\\appdata\\local\\programs\\python\\python313\\lib\\site-packages (from click->nltk) (0.4.6)\n",
      "Note: you may need to restart the kernel to use updated packages.\n"
     ]
    },
    {
     "name": "stderr",
     "output_type": "stream",
     "text": [
      "\n",
      "[notice] A new release of pip is available: 24.3.1 -> 25.1.1\n",
      "[notice] To update, run: python.exe -m pip install --upgrade pip\n"
     ]
    }
   ],
   "source": [
    "# **Imports**:\n",
    "%pip install numpy pandas matplotlib seaborn scikit-learn nltk\n",
    "# Import necessary libraries\n",
    "import numpy as np\n",
    "import pandas as pd\n",
    "import matplotlib.pyplot as plt\n",
    "import seaborn as sns\n",
    "import pickle\n",
    "from sklearn.model_selection import train_test_split\n",
    "from sklearn.preprocessing import StandardScaler\n",
    "from sklearn.linear_model import LogisticRegression\n",
    "from sklearn.metrics import classification_report, confusion_matrix, accuracy_score\n",
    "from sklearn.feature_extraction.text import TfidfVectorizer\n",
    "# Added import for Random Forest\n",
    "from sklearn.ensemble import RandomForestClassifier"
   ]
  },
  {
   "cell_type": "markdown",
   "metadata": {
    "id": "OQXCsoNHSvy5"
   },
   "source": [
    "# Load Dataset\n",
    "Load the dataset that will be used for training and testing the model."
   ]
  },
  {
   "cell_type": "code",
   "execution_count": 34,
   "metadata": {
    "id": "ZIB-yXiWSvy5"
   },
   "outputs": [],
   "source": [
    "# **Load Dataset**\n",
    "# Load the dataset into a pandas DataFrame\n",
    "dataset_pathCEAS_08 = '../sample_data/CEAS_08.csv'\n",
    "dataset_pathNigerian_Fraud = '../sample_data/Nigerian_Fraud.csv'\n",
    "dataset_pathSpamAssasin = '../sample_data/SpamAssasin.csv'\n",
    "\n",
    "\n",
    "df1 = pd.read_csv(dataset_pathCEAS_08)\n",
    "df2 = pd.read_csv(dataset_pathNigerian_Fraud)\n",
    "df3 = pd.read_csv(dataset_pathSpamAssasin)\n",
    "df = pd.concat([df1, df2, df3], ignore_index=True)"
   ]
  },
  {
   "cell_type": "markdown",
   "metadata": {
    "id": "0mXnmR8tSvy5"
   },
   "source": [
    "# Data Preprocessing\n",
    "Perform data cleaning and preprocessing steps to prepare the data for modeling."
   ]
  },
  {
   "cell_type": "code",
   "execution_count": 35,
   "metadata": {
    "id": "h5eWUCESSvy5"
   },
   "outputs": [
    {
     "name": "stdout",
     "output_type": "stream",
     "text": [
      "sender      0\n",
      "receiver    0\n",
      "date        0\n",
      "subject     0\n",
      "body        0\n",
      "label       0\n",
      "urls        0\n",
      "dtype: int64\n"
     ]
    },
    {
     "data": {
      "text/plain": [
       "(45823, 7)"
      ]
     },
     "execution_count": 35,
     "metadata": {},
     "output_type": "execute_result"
    }
   ],
   "source": [
    "# **Data Preprocessing**\n",
    "# Check for missing values\n",
    "missing_values = df.isnull().sum()\n",
    "df = df.dropna()\n",
    "missing_values = df.isnull().sum()# Print\n",
    "print(missing_values)\n",
    "df.shape"
   ]
  },
  {
   "cell_type": "code",
   "execution_count": 59,
   "metadata": {},
   "outputs": [
    {
     "name": "stdout",
     "output_type": "stream",
     "text": [
      "Applied text cleaning on 'subject' and 'body'.\n"
     ]
    }
   ],
   "source": [
    "# Additional Preprocessing: Clean text data by removing punctuation, digits, extra spaces, and stopwords.\n",
    "import re\n",
    "import string\n",
    "\n",
    "def clean_text(text):\n",
    "    # Lowercase the text\n",
    "    text = text.lower()\n",
    "    # Remove punctuation\n",
    "    text = text.translate(str.maketrans('', '', string.punctuation))\n",
    "    # Remove digits\n",
    "    text = re.sub(r'\\d+', '', text)\n",
    "    # Remove extra whitespace\n",
    "    text = re.sub(r'\\s+', ' ', text).strip()\n",
    "    # Remove stopwords\n",
    "    return text\n",
    "\n",
    "# Apply cleaning function to text fields\n",
    "df['subject'] = df['subject'].apply(clean_text)\n",
    "df['body'] = df['body'].apply(clean_text)\n",
    "print(\"Applied text cleaning on 'subject' and 'body'.\")"
   ]
  },
  {
   "cell_type": "markdown",
   "metadata": {},
   "source": [
    "# Train Model"
   ]
  },
  {
   "cell_type": "code",
   "execution_count": null,
   "metadata": {
    "colab": {
     "base_uri": "https://localhost:8080/"
    },
    "collapsed": true,
    "id": "pKLvm2gsX-3o",
    "outputId": "73d11fbd-efeb-47b7-a601-c8a2f6028cb4"
   },
   "outputs": [
    {
     "name": "stdout",
     "output_type": "stream",
     "text": [
      "Accuracy: 0.9829787234042553\n",
      "              precision    recall  f1-score   support\n",
      "\n",
      "           0       0.97      0.99      0.98      8340\n",
      "           1       0.99      0.98      0.98      9990\n",
      "\n",
      "    accuracy                           0.98     18330\n",
      "   macro avg       0.98      0.98      0.98     18330\n",
      "weighted avg       0.98      0.98      0.98     18330\n",
      "\n"
     ]
    },
    {
     "data": {
      "image/png": "[encoded data removed]",
      "text/plain": [
       "<Figure size 1000x700 with 2 Axes>"
      ]
     },
     "metadata": {},
     "output_type": "display_data"
    }
   ],
   "source": [
    "# Change input to include the full context: Subject and Body concatenated\n",
    "X = \"Subject: \" + df[\"subject\"] + \". Body: \" + df[\"body\"]\n",
    "y = df['label']  # Use the 'label' column as the target\n",
    "X_train, X_test, y_train, y_test = train_test_split(X, y, test_size=0.3, random_state=1)\n",
    "vectorizer = TfidfVectorizer()\n",
    "X_train_vec = vectorizer.fit_transform(X_train)\n",
    "X_test_vec = vectorizer.transform(X_test)\n",
    "\n",
    "# Initialize and train a Random Forest model\n",
    "model = RandomForestClassifier(random_state=1)\n",
    "# Fit the model to the training data\n",
    "model.fit(X_train_vec, y_train)\n",
    "# y_pred is the predicted labels for the test set\n",
    "y_pred = model.predict(X_test_vec)\n",
    "# the accuracy score is the ratio of correctly predicted instances to the total instances\n",
    "accuracy = accuracy_score(y_test, y_pred)\n",
    "# Evaluate the model\n",
    "print(f'Accuracy: {accuracy}')\n",
    "print(classification_report(y_test, y_pred))\n",
    "cm = confusion_matrix(y_test, y_pred)\n",
    "# Plot the confusion matrix as a heatmap with seaborn and matplotlib libraries\n",
    "plt.figure(figsize=(10, 7))\n",
    "sns.heatmap(cm, annot=True)\n",
    "plt.show()"
   ]
  },
  {
   "cell_type": "markdown",
   "metadata": {},
   "source": [
    "# Save Model"
   ]
  },
  {
   "cell_type": "code",
   "execution_count": 61,
   "metadata": {},
   "outputs": [],
   "source": [
    "# Save the model to disk\n",
    "model_path = '../app/model/model.pkl'\n",
    "with open(model_path, 'wb') as file:\n",
    "    pickle.dump(model, file)\n",
    "# Save the vectorizer to disk\n",
    "vectorizer_path = '../app/model/vectorizer.pkl'\n",
    "with open(vectorizer_path, 'wb') as file:\n",
    "    pickle.dump(vectorizer, file)"
   ]
  },
  {
   "cell_type": "code",
   "execution_count": 39,
   "metadata": {
    "colab": {
     "base_uri": "https://localhost:8080/"
    },
    "id": "Y0HDk0PbcRVO",
    "outputId": "148a14b2-c6ad-42ef-8827-8d8b3c111ce6"
   },
   "outputs": [
    {
     "name": "stdout",
     "output_type": "stream",
     "text": [
      "Is Spam: True\n",
      "Probabilities: [[0.15 0.85]]\n",
      "Top Suspect Words: [('body', np.float64(0.021079458556763922)), ('email', np.float64(0.0021618695937983433)), ('title', np.float64(0.00015757168823768073)), ('goes', np.float64(0.00012441256006306655)), ('content', np.float64(0.00010267879681582953))]\n",
      "Is Spam: True\n",
      "Probabilities: [[0.3 0.7]]\n",
      "Top Suspect Words: [('email', np.float64(0.0021618695937983433)), ('send', np.float64(0.000886050400295083)), ('forward', np.float64(0.00026109593494647905)), ('it', np.float64(6.931419949036034e-06)), ('can', np.float64(6.500332705713231e-06))]\n"
     ]
    }
   ],
   "source": [
    "# prompt: create fucntion to fecth the mdel test a body and return true or false\n",
    "def predict_text(text, model, vectorizer):\n",
    "    # Transform the input text using the fitted vectorizer\n",
    "    text_vec = vectorizer.transform([text])\n",
    "    # Predict the label\n",
    "    prediction = model.predict(text_vec)\n",
    "    # Calculate the probability of each class \n",
    "    probabilities = model.predict_proba(text_vec)\n",
    "    # Return True if predicted label is spam (assuming spam is labeled as 1), otherwise False\n",
    "    is_spam = prediction[0] == 1\n",
    "    return is_spam, probabilities\n",
    "\n",
    "def get_suspect_words(text, model, vectorizer, top_n=5):\n",
    "    # Transform the input text using the fitted vectorizer\n",
    "    text_vec = vectorizer.transform([text])\n",
    "\n",
    "    # Get feature names (words) from the vectorizer\n",
    "    feature_names = np.array(vectorizer.get_feature_names_out())\n",
    "\n",
    "    # Get feature importances from the RandomForestClassifier\n",
    "    feature_importances = model.feature_importances_\n",
    "\n",
    "    # Get the nonzero feature indices in the transformed input\n",
    "    word_indices = text_vec.nonzero()[1]\n",
    "\n",
    "    # Get word importance scores\n",
    "    word_importance = feature_importances[word_indices]\n",
    "\n",
    "    # Pair words with their importance scores and sort them\n",
    "    word_contributions = sorted(zip(feature_names[word_indices], word_importance), key=lambda x: abs(x[1]), reverse=True)\n",
    "\n",
    "    # Return the top N suspect words\n",
    "    return word_contributions[:top_n]\n",
    "# Example usage: Predict using title and body in the format: {subject}. Body: {body}\n",
    "subject = \"Your Email Title\"\n",
    "body_text = \"Your email content goes here\"\n",
    "sample_text = f\"{subject}. Body: {body_text}\"\n",
    "is_spam, probabilities = predict_text(sample_text, model, vectorizer)\n",
    "print(\"Is Spam:\", is_spam)\n",
    "print(\"Probabilities:\", probabilities)\n",
    "top_words = get_suspect_words(sample_text, model, vectorizer, top_n=5)\n",
    "print(\"Top Suspect Words:\", top_words)\n",
    "# Example usage Subject: {subject}. Body: {body}” so that the model sees the full context. \n",
    "sample_text = \"Hay send me your other email so I can forward it to you\" \n",
    "is_spam, probabilities = predict_text(sample_text, model, vectorizer)\n",
    "print(\"Is Spam:\", is_spam)\n",
    "print(\"Probabilities:\", probabilities)\n",
    "top_words = get_suspect_words(sample_text, model, vectorizer, top_n=5)\n",
    "print(\"Top Suspect Words:\", top_words)\n"
   ]
  },
  {
   "cell_type": "code",
   "execution_count": 40,
   "metadata": {
    "colab": {
     "base_uri": "https://localhost:8080/"
    },
    "id": "XGQmQuc5cE6B",
    "outputId": "0697f83f-9de7-41aa-ed36-f59a15114cc6"
   },
   "outputs": [
    {
     "name": "stdout",
     "output_type": "stream",
     "text": [
      "The email is not a phishing email. With a probability of 68.0 %\n",
      "Top 5 suspect words: [('body', np.float64(0.021079458556763922)), ('using', np.float64(0.0036109840322067505)), ('email', np.float64(0.0021618695937983433)), ('used', np.float64(0.0016061349324382973)), ('data', np.float64(0.001571869949512627))]\n"
     ]
    }
   ],
   "source": [
    "subject = \"Your Email Title\"\n",
    "test_body = \"We detected that your password has been exposed in a data breach on another platform while doing a routine check for your security. You should reset your Duolingo password immediately, using a unique password not used elsewhere.\"\n",
    "test_text = f\"{subject}. Body: {test_body}\"\n",
    "is_spam, percentages = predict_text(test_text, model, vectorizer)\n",
    "suspect_words = get_suspect_words(test_text, model, vectorizer)\n",
    "\n",
    "if is_spam:\n",
    "    print(\"The email is a phishing email. With a probability of\", percentages[0][1].round(2)*100, \"%\")\n",
    "else:\n",
    "    print(\"The email is not a phishing email. With a probability of\", percentages[0][0].round(2)*100, \"%\")\n",
    "\n",
    "print(\"Top 5 suspect words:\", suspect_words)"
   ]
  }
 ],
 "metadata": {
  "colab": {
   "provenance": []
  },
  "kernelspec": {
   "display_name": "Python 3",
   "name": "python3"
  },
  "language_info": {
   "codemirror_mode": {
    "name": "ipython",
    "version": 3
   },
   "file_extension": ".py",
   "mimetype": "text/x-python",
   "name": "python",
   "nbconvert_exporter": "python",
   "pygments_lexer": "ipython3",
   "version": "3.13.2"
  }
 },
 "nbformat": 4,
 "nbformat_minor": 0
}
